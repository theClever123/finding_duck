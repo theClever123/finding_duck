{
 "cells": [
  {
   "cell_type": "code",
   "execution_count": 1,
   "id": "f24c7575",
   "metadata": {},
   "outputs": [],
   "source": [
    "import numpy as np\n",
    "import cv2\n",
    "from matplotlib import pyplot as plt\n",
    "from PIL import Image\n",
    "img = Image.open('full_duck.jpg')\n",
    "img_array = np.array(img)/255.0"
   ]
  },
  {
   "cell_type": "code",
   "execution_count": 2,
   "id": "96c9bfe8",
   "metadata": {},
   "outputs": [
    {
     "name": "stdout",
     "output_type": "stream",
     "text": [
      "5946 13816\n",
      "246449808\n"
     ]
    }
   ],
   "source": [
    "(w,h)=np.size(img)\n",
    "print(w,h)\n",
    "print(img_array.size)"
   ]
  },
  {
   "cell_type": "code",
   "execution_count": 3,
   "id": "ee8605a7",
   "metadata": {},
   "outputs": [
    {
     "name": "stdout",
     "output_type": "stream",
     "text": [
      "(40, 44)\n",
      "(44, 40, 3)\n"
     ]
    }
   ],
   "source": [
    "duck_mode0=Image.open('testduck.jpg')  #duck model\n",
    "duck_array = np.array(duck_mode0)/255.0\n",
    "print(duck_mode0.size)\n",
    "print(np.shape(duck_array))"
   ]
  },
  {
   "cell_type": "code",
   "execution_count": 4,
   "id": "bd1fac81",
   "metadata": {},
   "outputs": [
    {
     "name": "stdout",
     "output_type": "stream",
     "text": [
      "(28, 32)\n",
      "(32, 28, 3)\n"
     ]
    }
   ],
   "source": [
    "no_duck_mode0=Image.open('noducktest.jpg')#no duck model\n",
    "no_duck_array = np.array(no_duck_mode0)/255.0\n",
    "print(no_duck_mode0.size)\n",
    "print(np.shape(no_duck_array))"
   ]
  },
  {
   "cell_type": "code",
   "execution_count": 5,
   "id": "0f73e13f",
   "metadata": {
    "scrolled": true
   },
   "outputs": [
    {
     "name": "stdout",
     "output_type": "stream",
     "text": [
      "[0.9213101604278164, 0.9488658645276513, 0.9769741532976997]\n",
      "[[0.00065542 0.00061881 0.00050382]\n",
      " [0.00061881 0.00066909 0.00056263]\n",
      " [0.00050382 0.00056263 0.00051321]]\n"
     ]
    }
   ],
   "source": [
    "#duck_model mu\n",
    "total=duck_array.shape[0]*duck_array.shape[1] #像素點總數\n",
    "duck_x = 0\n",
    "duck_y = 0\n",
    "duck_z = 0\n",
    "for j in range(duck_array.shape[0]):  #每個像素點的RGB總和\n",
    "      for i in range(duck_array.shape[1]): \n",
    "           duck_x = duck_x + duck_array[j][i][0]\n",
    "           duck_y = duck_y + duck_array[j][i][1]\n",
    "           duck_z = duck_z + duck_array[j][i][2]\n",
    "\n",
    "a= duck_x /total #RGB的平均(mu)\n",
    "b= duck_y /total\n",
    "c= duck_z /total\n",
    "\n",
    "duck_mu=[a,b,c]\n",
    "print(duck_mu)\n",
    "\n",
    "\n",
    "#duck_model.jpg  sigma\n",
    "covar_x=0\n",
    "\n",
    "for j in range(duck_array.shape[0]): #每個像素點\n",
    "     for i in range(duck_array.shape[1]): \n",
    "            x_reduce_mu   =  duck_array[j][i]-duck_mu\n",
    "            x_reduce_mu_T =  np.transpose([x_reduce_mu])\n",
    "            covar_x = covar_x + ( x_reduce_mu * x_reduce_mu_T )\n",
    "            \n",
    "print(covar_x /(total-1))\n"
   ]
  },
  {
   "cell_type": "code",
   "execution_count": 6,
   "id": "e57a3702",
   "metadata": {
    "scrolled": false
   },
   "outputs": [
    {
     "name": "stdout",
     "output_type": "stream",
     "text": [
      "[0.4953387605042024, 0.5199886204481784, 0.5600446428571445]\n",
      "[[0.00265662 0.00251849 0.00256384]\n",
      " [0.00251849 0.00241649 0.0024488 ]\n",
      " [0.00256384 0.0024488  0.0024859 ]]\n"
     ]
    }
   ],
   "source": [
    "#no duck_model mu\n",
    "total_noduck = no_duck_array.shape[0]*no_duck_array.shape[1] #像素點總和\n",
    "\n",
    "no_duck_x = 0\n",
    "no_duck_y = 0\n",
    "no_duck_z = 0\n",
    "\n",
    "for j in range(no_duck_array.shape[0]):  \n",
    "    for i in range(no_duck_array.shape[1]): \n",
    "        no_duck_x = no_duck_x + no_duck_array[j][i][0]\n",
    "        no_duck_y = no_duck_y + no_duck_array[j][i][1]\n",
    "        no_duck_z = no_duck_z + no_duck_array[j][i][2]\n",
    "\n",
    "a1= no_duck_x /total_noduck\n",
    "b1= no_duck_y /total_noduck\n",
    "c1= no_duck_z /total_noduck\n",
    "\n",
    "no_duck_mu=[a1,b1,c1] #mu\n",
    "print(no_duck_mu)\n",
    "#no duck_model.jpg  sigma\n",
    " \n",
    "no_covar_x=0\n",
    "\n",
    "for j in range(no_duck_array.shape[0]): #每個像數點 \n",
    "    for i in range(no_duck_array.shape[1]): \n",
    "        x_reduce_mu_no   =  no_duck_array[j][i]-no_duck_mu\n",
    "        x_reduce_mu_no_T =  np.transpose([x_reduce_mu_no])\n",
    "        no_covar_x = no_covar_x + ( x_reduce_mu_no * x_reduce_mu_no_T )\n",
    "            \n",
    "print(no_covar_x /(total_noduck-1))"
   ]
  },
  {
   "cell_type": "code",
   "execution_count": 17,
   "id": "547836ce",
   "metadata": {
    "scrolled": true
   },
   "outputs": [],
   "source": [
    "import PIL \n",
    "im = PIL.Image.new(mode = \"RGB\", size = img.size )\n",
    "import math\n",
    "im_array= np.array(im) \n",
    "\n",
    "PI=math.pi\n",
    "DET=np.linalg.det(covar_x)\n",
    "INVERSE= np.linalg.inv(covar_x)\n",
    "EXP=[]\n",
    "\n",
    "DET1=np.linalg.det(no_covar_x)\n",
    "INVERSE1= np.linalg.inv(no_covar_x)\n",
    "EXP1=[]\n",
    "\n",
    "for j in range(img_array.shape[0]):  \n",
    "    for i in range(img_array.shape[1]): \n",
    "        a=img_array[j][i]-duck_mu  #duck_model \n",
    "        a1=np.transpose([img_array[j][i]-duck_mu]) \n",
    "        b=np.dot(a,INVERSE) \n",
    "        d=np.dot(b,a1)\n",
    "        x=1/( ( ( (2*PI)**3 )*DET )**0.5 ) * math.e**((-0.5)*d )\n",
    "\n",
    "        \n",
    "        n=img_array[j][i]-no_duck_mu #no_duck_model \n",
    "        f=np.transpose([img_array[j][i]-no_duck_mu]) \n",
    "        g=np.dot(n,INVERSE1) \n",
    "        h=np.dot(g,f)\n",
    "        y=1/( ( ( (2*PI)**3 )*DET1 )**0.5 ) * math.e**((-0.5)*h )\n",
    "\n",
    "        if(x > y):\n",
    "            im_array[j][i]=[255,255,255] #白色\n",
    "        else:\n",
    "            im_array[j][i]=[0,0,0] #黑色\n",
    "                \n",
    " "
   ]
  },
  {
   "cell_type": "code",
   "execution_count": 18,
   "id": "c980bdd3",
   "metadata": {},
   "outputs": [],
   "source": [
    "im=Image.fromarray(im_array) # numpy->image\n",
    "im.show() #顯示圖片\n",
    "         "
   ]
  }
 ],
 "metadata": {
  "kernelspec": {
   "display_name": "Python 3",
   "language": "python",
   "name": "python3"
  },
  "language_info": {
   "codemirror_mode": {
    "name": "ipython",
    "version": 3
   },
   "file_extension": ".py",
   "mimetype": "text/x-python",
   "name": "python",
   "nbconvert_exporter": "python",
   "pygments_lexer": "ipython3",
   "version": "3.8.8"
  }
 },
 "nbformat": 4,
 "nbformat_minor": 5
}
